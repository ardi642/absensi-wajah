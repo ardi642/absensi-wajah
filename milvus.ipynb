{
  "cells": [
    {
      "cell_type": "code",
      "execution_count": 1,
      "metadata": {
        "colab": {
          "base_uri": "https://localhost:8080/"
        },
        "id": "nGYznfBzYdGn",
        "outputId": "483fdc9f-4c2a-44f4-956a-2dbbbb8c32bd"
      },
      "outputs": [],
      "source": [
        "# from pymilvus import connections\n",
        "# connections.connect(\n",
        "#   alias=\"default\",\n",
        "#   user='username',\n",
        "#   password='password',\n",
        "#   host='localhost',\n",
        "#   port='19530'\n",
        "# )"
      ]
    },
    {
      "cell_type": "code",
      "execution_count": 9,
      "metadata": {},
      "outputs": [
        {
          "data": {
            "text/plain": [
              "True"
            ]
          },
          "execution_count": 9,
          "metadata": {},
          "output_type": "execute_result"
        }
      ],
      "source": [
        "from pymilvus import utility\n",
        "utility.has_collection(\"pengenalan_wajah\")"
      ]
    },
    {
      "cell_type": "code",
      "execution_count": 7,
      "metadata": {},
      "outputs": [],
      "source": [
        "from pymilvus import utility"
      ]
    },
    {
      "cell_type": "code",
      "execution_count": 12,
      "metadata": {},
      "outputs": [],
      "source": [
        "from pymilvus import connections, db\n",
        "databases = db.list_database()"
      ]
    },
    {
      "cell_type": "code",
      "execution_count": 19,
      "metadata": {},
      "outputs": [
        {
          "data": {
            "text/plain": [
              "True"
            ]
          },
          "execution_count": 19,
          "metadata": {},
          "output_type": "execute_result"
        }
      ],
      "source": [
        "\n",
        "database_name in databases"
      ]
    },
    {
      "cell_type": "code",
      "execution_count": 15,
      "metadata": {},
      "outputs": [],
      "source": [
        "db_name = 'technos_studio'\n",
        "collection_name = 'pengenalan_wajah'\n",
        "user = 'username'\n",
        "password = 'password'\n",
        "host = 'localhost'\n",
        "port = '19530'\n",
        "\n",
        "if db_name not in databases:\n",
        "  db.create_database(db_name)\n",
        "\n",
        "conn = connections.connect(\n",
        "  alias=\"default\",\n",
        "  user=user,\n",
        "  password=password,\n",
        "  host=host,\n",
        "  port=port,\n",
        "  db_name=db_name\n",
        ")"
      ]
    },
    {
      "cell_type": "code",
      "execution_count": 8,
      "metadata": {},
      "outputs": [],
      "source": [
        "from pymilvus import connections, db\n",
        "\n",
        "conn = connections.connect(\n",
        "  alias=\"default\",\n",
        "  user='username',\n",
        "  password='password',\n",
        "  host='localhost',\n",
        "  port='19530',\n",
        "  db_name='technos_studio'\n",
        ")"
      ]
    },
    {
      "cell_type": "code",
      "execution_count": 1,
      "metadata": {},
      "outputs": [],
      "source": [
        "from pymilvus import connections, db\n",
        "\n",
        "conn = connections.connect(\n",
        "  alias=\"default\",\n",
        "  user='username',\n",
        "  password='password',\n",
        "  host='188.166.176.51',\n",
        "  port='19530',\n",
        "  # db_name='technos_studio'\n",
        ")"
      ]
    },
    {
      "cell_type": "code",
      "execution_count": 98,
      "metadata": {
        "id": "3uP7vFcyZOJL"
      },
      "outputs": [
        {
          "data": {
            "text/plain": [
              "['default', 'technos_studio']"
            ]
          },
          "execution_count": 98,
          "metadata": {},
          "output_type": "execute_result"
        }
      ],
      "source": [
        "db.list_database()"
      ]
    },
    {
      "cell_type": "code",
      "execution_count": 99,
      "metadata": {},
      "outputs": [],
      "source": [
        "from pymilvus import utility\n",
        "utility.drop_collection(\"pengenalan_wajah\")"
      ]
    },
    {
      "cell_type": "code",
      "execution_count": 100,
      "metadata": {
        "colab": {
          "base_uri": "https://localhost:8080/"
        },
        "id": "bZrTUqAI8cva",
        "outputId": "e8dc7018-29fc-4011-c6ae-c6292762ad9e"
      },
      "outputs": [],
      "source": [
        "from pymilvus import CollectionSchema, FieldSchema, DataType\n",
        "id = FieldSchema(\n",
        "  name=\"id\",\n",
        "  dtype=DataType.INT64,\n",
        "  auto_id=True,\n",
        "  is_primary=True,\n",
        ")\n",
        "identity = FieldSchema(\n",
        "  name=\"identity\",\n",
        "  dtype=DataType.VARCHAR,\n",
        "  max_length=200,\n",
        "  # The default value will be used if this field is left empty during data inserts or upserts.\n",
        "  # The data type of `default_value` must be the same as that specified in `dtype`.\n",
        "  default_value=\"Unknown\"\n",
        ")\n",
        "embedding = FieldSchema(\n",
        "  name=\"embedding\",\n",
        "  dtype=DataType.FLOAT_VECTOR,\n",
        "  dim=512\n",
        "  # The default value will be used if this field is left empty during data inserts or upserts.\n",
        "  # The data type of `default_value` must be the same as that specified in `dtype`.\n",
        "  \n",
        ")\n",
        "\n",
        "schema = CollectionSchema(\n",
        "  fields=[id, identity, embedding],\n",
        "  description=\"Face Recognition\",\n",
        "  enable_dynamic_field=True\n",
        ")\n",
        "collection_name = \"pengenalan_wajah\""
      ]
    },
    {
      "cell_type": "code",
      "execution_count": 101,
      "metadata": {
        "id": "KtQ_K5j8NFWl"
      },
      "outputs": [],
      "source": [
        "from pymilvus import Collection\n",
        "collection = Collection(\n",
        "    name=collection_name,\n",
        "    schema=schema,\n",
        "    using='default',\n",
        "    shards_num=2\n",
        "    )"
      ]
    },
    {
      "cell_type": "code",
      "execution_count": 102,
      "metadata": {
        "id": "7_BdLPIKRa-1"
      },
      "outputs": [
        {
          "data": {
            "text/plain": [
              "['pengenalan_wajah']"
            ]
          },
          "execution_count": 102,
          "metadata": {},
          "output_type": "execute_result"
        }
      ],
      "source": [
        "from pymilvus import utility\n",
        "utility.list_collections()"
      ]
    },
    {
      "cell_type": "code",
      "execution_count": 103,
      "metadata": {
        "id": "_vZ4QhnAR2ls"
      },
      "outputs": [],
      "source": [
        "import cv2\n",
        "from deepface import DeepFace\n",
        "import pymongo\n",
        "client = pymongo.MongoClient(\"mongodb://localhost:27017/\")\n",
        "db = client[\"pengenalanWajah\"]\n",
        "collection = db[\"technosStudio\"]"
      ]
    },
    {
      "cell_type": "code",
      "execution_count": 104,
      "metadata": {
        "id": "igkUWgOdSByA"
      },
      "outputs": [],
      "source": [
        "embeddings = []\n",
        "identities = []\n",
        "for data in collection.find({}, {'_id': 0, 'embedding': 1, 'identity': 1}):\n",
        "  embeddings.append(data['embedding'])\n",
        "  identities.append(data['identity'])\n",
        "  "
      ]
    },
    {
      "cell_type": "code",
      "execution_count": 105,
      "metadata": {},
      "outputs": [],
      "source": [
        "data = [identities, embeddings]"
      ]
    },
    {
      "cell_type": "code",
      "execution_count": 106,
      "metadata": {},
      "outputs": [],
      "source": [
        "from pymilvus import Collection\n",
        "collection = Collection(\"pengenalan_wajah\") \n",
        "\n",
        "index_params = {\n",
        "  \"metric_type\":\"COSINE\",\n",
        "  \"index_type\":\"IVF_FLAT\",\n",
        "  \"params\":{\"nlist\":1024}\n",
        "}\n",
        "collection.create_index(\n",
        "  field_name=\"embedding\", \n",
        "  index_params=index_params\n",
        ")\n",
        "mr = collection.insert(data)"
      ]
    },
    {
      "cell_type": "code",
      "execution_count": 107,
      "metadata": {},
      "outputs": [
        {
          "data": {
            "text/plain": [
              "(insert count: 4200, delete count: 0, upsert count: 0, timestamp: 446056874011787266, success count: 4200, err count: 0)"
            ]
          },
          "execution_count": 107,
          "metadata": {},
          "output_type": "execute_result"
        }
      ],
      "source": [
        "mr"
      ]
    },
    {
      "cell_type": "code",
      "execution_count": 130,
      "metadata": {
        "id": "P_9WbQdWAhm8"
      },
      "outputs": [],
      "source": [
        "from pymilvus import Collection\n",
        "collection = Collection(\"pengenalan_wajah\")      # Get an existing collection.\n",
        "collection.load()\n",
        "\n",
        "res = collection.query(\n",
        "  expr = \"identity == 'ardi'\",\n",
        "  offset = 0,\n",
        "  limit = 10, \n",
        "  output_fields = ['identity', \"embedding\"],\n",
        ")\n"
      ]
    },
    {
      "cell_type": "code",
      "execution_count": 137,
      "metadata": {},
      "outputs": [],
      "source": [
        "res = collection.query(\n",
        "  expr = \"identity == 'ardi'\",\n",
        "  output_fields = ['count(*)'],\n",
        ")"
      ]
    },
    {
      "cell_type": "code",
      "execution_count": 138,
      "metadata": {},
      "outputs": [
        {
          "data": {
            "text/plain": [
              "202"
            ]
          },
          "execution_count": 138,
          "metadata": {},
          "output_type": "execute_result"
        }
      ],
      "source": [
        "res[0]['count(*)']"
      ]
    },
    {
      "cell_type": "code",
      "execution_count": 118,
      "metadata": {},
      "outputs": [
        {
          "data": {
            "text/plain": [
              "'ardi'"
            ]
          },
          "execution_count": 118,
          "metadata": {},
          "output_type": "execute_result"
        }
      ],
      "source": [
        "res[0]['identity']"
      ]
    },
    {
      "cell_type": "code",
      "execution_count": 151,
      "metadata": {},
      "outputs": [],
      "source": [
        "# from keras.models import Sequential\n",
        "# from keras.layers import Conv2D, MaxPooling2D, Flatten, Dense, Dropout\n",
        "\n",
        "# # Inisialisasi model sequential\n",
        "# model = Sequential()\n",
        "\n",
        "# # Layer konvolusi pertama\n",
        "# model.add(Conv2D(32, (3, 3), activation='relu', input_shape=(img_height, img_width, 3)))\n",
        "# model.add(MaxPooling2D(pool_size=(2, 2)))\n",
        "\n",
        "# # Layer konvolusi kedua\n",
        "# model.add(Conv2D(64, (3, 3), activation='relu'))\n",
        "# model.add(MaxPooling2D(pool_size=(2, 2)))\n",
        "\n",
        "# # Layer konvolusi ketiga\n",
        "# model.add(Conv2D(128, (3, 3), activation='relu'))\n",
        "# model.add(MaxPooling2D(pool_size=(2, 2)))\n",
        "\n",
        "# # Flatten layer\n",
        "# model.add(Flatten())\n",
        "\n",
        "# # Fully connected layer\n",
        "# model.add(Dense(256, activation='relu'))\n",
        "\n",
        "# # Output layer\n",
        "# model.add(Dense(num_classes, activation='softmax'))\n",
        "\n",
        "# # Compile model\n",
        "# model.compile(optimizer='adam', loss='categorical_crossentropy', metrics=['accuracy'])"
      ]
    },
    {
      "cell_type": "code",
      "execution_count": null,
      "metadata": {
        "id": "_caAm_pLOrvI"
      },
      "outputs": [],
      "source": []
    },
    {
      "cell_type": "code",
      "execution_count": 152,
      "metadata": {},
      "outputs": [],
      "source": [
        "from keras.models import Sequential\n",
        "from keras.layers import Conv2D, MaxPooling2D, MaxPool2D, Flatten, Dense, Dropout\n",
        "model=Sequential()\n",
        "model.add(Conv2D(filters=8,kernel_size=(3,3),padding=\"Same\",activation=\"relu\",input_shape=(img_height, img_width,3)))\n",
        "model.add(MaxPool2D(pool_size=(2,2)))\n",
        "model.add(Dropout(0.2))\n",
        "\n",
        "model.add(Conv2D(filters=16,kernel_size=(3,3),padding=\"Same\",activation=\"relu\"))\n",
        "model.add(MaxPool2D(pool_size=(2,2),strides=(2,2)))\n",
        "model.add(Dropout(0.3))\n",
        "\n",
        "model.add(Conv2D(filters=32,kernel_size=(3,3),padding=\"Same\",activation=\"relu\"))\n",
        "model.add(MaxPool2D(pool_size=(2,2),strides=(2,2)))\n",
        "model.add(Dropout(0.3))\n",
        "model.add(Flatten())\n",
        "model.add(Dense(512,activation=\"relu\"))\n",
        "model.add(Dropout(0.2))\n",
        "model.add(Dense(num_classes,activation=\"softmax\"))\n",
        "\n",
        "# # Compile model\n",
        "model.compile(optimizer='adam', loss='categorical_crossentropy', metrics=['accuracy'])"
      ]
    },
    {
      "cell_type": "code",
      "execution_count": null,
      "metadata": {},
      "outputs": [],
      "source": []
    },
    {
      "cell_type": "code",
      "execution_count": 153,
      "metadata": {},
      "outputs": [
        {
          "name": "stdout",
          "output_type": "stream",
          "text": [
            "Epoch 1/50\n",
            "14/14 [==============================] - 3s 236ms/step - loss: 1.5237 - accuracy: 0.2674 - val_loss: 1.4143 - val_accuracy: 0.1538\n",
            "Epoch 2/50\n",
            "14/14 [==============================] - 3s 211ms/step - loss: 1.3398 - accuracy: 0.3348 - val_loss: 1.3670 - val_accuracy: 0.3077\n",
            "Epoch 3/50\n",
            "14/14 [==============================] - 3s 230ms/step - loss: 1.3356 - accuracy: 0.3618 - val_loss: 1.3675 - val_accuracy: 0.3077\n",
            "Epoch 4/50\n",
            "14/14 [==============================] - 3s 201ms/step - loss: 1.2743 - accuracy: 0.3888 - val_loss: 1.2162 - val_accuracy: 0.8269\n",
            "Epoch 5/50\n",
            "14/14 [==============================] - 3s 201ms/step - loss: 1.2067 - accuracy: 0.4337 - val_loss: 1.1395 - val_accuracy: 0.8077\n",
            "Epoch 6/50\n",
            "14/14 [==============================] - 3s 205ms/step - loss: 1.1602 - accuracy: 0.4315 - val_loss: 1.0985 - val_accuracy: 0.6731\n",
            "Epoch 7/50\n",
            "14/14 [==============================] - 3s 231ms/step - loss: 1.0803 - accuracy: 0.5438 - val_loss: 1.0721 - val_accuracy: 0.3077\n",
            "Epoch 8/50\n",
            "14/14 [==============================] - 4s 243ms/step - loss: 1.0514 - accuracy: 0.5146 - val_loss: 1.0254 - val_accuracy: 0.6154\n",
            "Epoch 9/50\n",
            "14/14 [==============================] - 3s 210ms/step - loss: 1.0038 - accuracy: 0.5528 - val_loss: 1.0920 - val_accuracy: 0.4615\n",
            "Epoch 10/50\n",
            "14/14 [==============================] - 3s 203ms/step - loss: 0.9731 - accuracy: 0.5618 - val_loss: 0.9376 - val_accuracy: 0.5385\n",
            "Epoch 11/50\n",
            "14/14 [==============================] - 3s 206ms/step - loss: 0.8616 - accuracy: 0.6562 - val_loss: 1.0224 - val_accuracy: 0.3269\n",
            "Epoch 12/50\n",
            "14/14 [==============================] - 3s 198ms/step - loss: 0.8120 - accuracy: 0.6742 - val_loss: 1.1675 - val_accuracy: 0.3077\n",
            "Epoch 13/50\n",
            "14/14 [==============================] - 3s 200ms/step - loss: 0.8016 - accuracy: 0.6404 - val_loss: 1.0854 - val_accuracy: 0.3654\n",
            "Epoch 14/50\n",
            "14/14 [==============================] - 3s 205ms/step - loss: 0.8112 - accuracy: 0.6674 - val_loss: 1.0300 - val_accuracy: 0.4615\n",
            "Epoch 15/50\n",
            "14/14 [==============================] - 3s 201ms/step - loss: 0.7516 - accuracy: 0.6966 - val_loss: 1.1766 - val_accuracy: 0.2692\n",
            "Epoch 16/50\n",
            "14/14 [==============================] - 3s 204ms/step - loss: 0.7683 - accuracy: 0.6787 - val_loss: 1.0881 - val_accuracy: 0.2500\n",
            "Epoch 17/50\n",
            "14/14 [==============================] - 3s 204ms/step - loss: 0.7019 - accuracy: 0.7191 - val_loss: 0.9287 - val_accuracy: 0.6346\n",
            "Epoch 18/50\n",
            "14/14 [==============================] - 3s 199ms/step - loss: 0.7234 - accuracy: 0.6944 - val_loss: 1.1634 - val_accuracy: 0.3269\n",
            "Epoch 19/50\n",
            "14/14 [==============================] - 3s 202ms/step - loss: 0.6867 - accuracy: 0.7236 - val_loss: 1.0102 - val_accuracy: 0.3269\n",
            "Epoch 20/50\n",
            "14/14 [==============================] - 3s 198ms/step - loss: 0.5850 - accuracy: 0.7820 - val_loss: 0.9295 - val_accuracy: 0.5192\n",
            "Epoch 21/50\n",
            "14/14 [==============================] - 3s 198ms/step - loss: 0.6756 - accuracy: 0.7258 - val_loss: 1.0388 - val_accuracy: 0.3462\n",
            "Epoch 22/50\n",
            "14/14 [==============================] - 3s 201ms/step - loss: 0.6016 - accuracy: 0.7461 - val_loss: 1.0002 - val_accuracy: 0.3462\n",
            "Epoch 23/50\n",
            "14/14 [==============================] - 3s 204ms/step - loss: 0.4816 - accuracy: 0.8360 - val_loss: 1.0569 - val_accuracy: 0.3269\n",
            "Epoch 24/50\n",
            "14/14 [==============================] - 3s 203ms/step - loss: 0.5049 - accuracy: 0.8067 - val_loss: 0.8036 - val_accuracy: 0.5962\n",
            "Epoch 25/50\n",
            "14/14 [==============================] - 3s 205ms/step - loss: 0.5183 - accuracy: 0.7798 - val_loss: 0.8027 - val_accuracy: 0.5577\n",
            "Epoch 26/50\n",
            "14/14 [==============================] - 3s 204ms/step - loss: 0.4521 - accuracy: 0.8202 - val_loss: 0.8504 - val_accuracy: 0.5385\n",
            "Epoch 27/50\n",
            "14/14 [==============================] - 3s 203ms/step - loss: 0.4831 - accuracy: 0.8225 - val_loss: 0.9286 - val_accuracy: 0.4615\n",
            "Epoch 28/50\n",
            "14/14 [==============================] - 3s 203ms/step - loss: 0.4347 - accuracy: 0.8337 - val_loss: 1.0932 - val_accuracy: 0.2885\n",
            "Epoch 29/50\n",
            "14/14 [==============================] - 3s 209ms/step - loss: 0.3774 - accuracy: 0.8584 - val_loss: 1.0300 - val_accuracy: 0.3462\n",
            "Epoch 30/50\n",
            "14/14 [==============================] - 3s 206ms/step - loss: 0.4062 - accuracy: 0.8494 - val_loss: 1.1174 - val_accuracy: 0.4231\n",
            "Epoch 31/50\n",
            "14/14 [==============================] - 3s 201ms/step - loss: 0.4466 - accuracy: 0.8360 - val_loss: 1.3530 - val_accuracy: 0.1731\n",
            "Epoch 32/50\n",
            "14/14 [==============================] - 3s 207ms/step - loss: 0.3993 - accuracy: 0.8292 - val_loss: 2.1053 - val_accuracy: 0.1538\n",
            "Epoch 33/50\n",
            "14/14 [==============================] - 3s 202ms/step - loss: 0.4349 - accuracy: 0.8382 - val_loss: 1.2157 - val_accuracy: 0.3846\n",
            "Epoch 34/50\n",
            "14/14 [==============================] - 3s 195ms/step - loss: 0.4177 - accuracy: 0.8247 - val_loss: 1.1145 - val_accuracy: 0.3269\n",
            "Epoch 35/50\n",
            "14/14 [==============================] - 3s 196ms/step - loss: 0.3878 - accuracy: 0.8674 - val_loss: 0.9663 - val_accuracy: 0.3846\n",
            "Epoch 36/50\n",
            "14/14 [==============================] - 3s 197ms/step - loss: 0.3106 - accuracy: 0.8876 - val_loss: 1.0289 - val_accuracy: 0.4038\n",
            "Epoch 37/50\n",
            "14/14 [==============================] - 3s 198ms/step - loss: 0.3422 - accuracy: 0.8697 - val_loss: 1.3627 - val_accuracy: 0.3269\n",
            "Epoch 38/50\n",
            "14/14 [==============================] - 3s 199ms/step - loss: 0.3348 - accuracy: 0.8697 - val_loss: 1.0029 - val_accuracy: 0.4038\n",
            "Epoch 39/50\n",
            "14/14 [==============================] - 3s 200ms/step - loss: 0.2414 - accuracy: 0.9213 - val_loss: 0.9970 - val_accuracy: 0.3846\n",
            "Epoch 40/50\n",
            "14/14 [==============================] - 3s 200ms/step - loss: 0.1992 - accuracy: 0.9258 - val_loss: 1.4510 - val_accuracy: 0.3654\n",
            "Epoch 41/50\n",
            "14/14 [==============================] - 3s 198ms/step - loss: 0.3375 - accuracy: 0.8719 - val_loss: 0.9405 - val_accuracy: 0.4423\n",
            "Epoch 42/50\n",
            "14/14 [==============================] - 3s 198ms/step - loss: 0.3300 - accuracy: 0.8562 - val_loss: 1.1452 - val_accuracy: 0.3654\n",
            "Epoch 43/50\n",
            "14/14 [==============================] - 3s 200ms/step - loss: 0.2657 - accuracy: 0.9056 - val_loss: 1.0140 - val_accuracy: 0.4615\n",
            "Epoch 44/50\n",
            "14/14 [==============================] - 3s 204ms/step - loss: 0.2427 - accuracy: 0.9146 - val_loss: 1.0888 - val_accuracy: 0.4808\n",
            "Epoch 45/50\n",
            "14/14 [==============================] - 3s 201ms/step - loss: 0.2532 - accuracy: 0.9079 - val_loss: 1.3675 - val_accuracy: 0.3654\n",
            "Epoch 46/50\n",
            "14/14 [==============================] - 3s 201ms/step - loss: 0.2072 - accuracy: 0.9213 - val_loss: 1.9225 - val_accuracy: 0.3077\n",
            "Epoch 47/50\n",
            "14/14 [==============================] - 3s 196ms/step - loss: 0.2138 - accuracy: 0.9191 - val_loss: 0.8997 - val_accuracy: 0.4615\n",
            "Epoch 48/50\n",
            "14/14 [==============================] - 3s 201ms/step - loss: 0.1538 - accuracy: 0.9506 - val_loss: 2.1852 - val_accuracy: 0.1923\n",
            "Epoch 49/50\n",
            "14/14 [==============================] - 3s 197ms/step - loss: 0.1330 - accuracy: 0.9483 - val_loss: 1.5802 - val_accuracy: 0.3654\n",
            "Epoch 50/50\n",
            "14/14 [==============================] - 3s 197ms/step - loss: 0.1483 - accuracy: 0.9573 - val_loss: 1.4773 - val_accuracy: 0.3462\n"
          ]
        }
      ],
      "source": [
        "import tensorflow as tf\n",
        "tf.config.run_functions_eagerly(True)\n",
        "epochs = 50\n",
        "history = model.fit(\n",
        "  data_training,\n",
        "  batch_size=128,\n",
        "  validation_data=data_validation,\n",
        "  epochs=epochs,\n",
        ")"
      ]
    },
    {
      "cell_type": "code",
      "execution_count": 154,
      "metadata": {
        "id": "J6VSkuQ8iMRG"
      },
      "outputs": [],
      "source": [
        "model.save(root_path + 'model_pengenalan_wajah.h5')"
      ]
    },
    {
      "cell_type": "code",
      "execution_count": 58,
      "metadata": {
        "colab": {
          "base_uri": "https://localhost:8080/",
          "height": 699
        },
        "id": "u-mFDvH7WXH8",
        "outputId": "2b3c9abf-f794-4168-9b66-dc55c8e6ca94"
      },
      "outputs": [
        {
          "data": {
            "image/png": "[encoded data removed]",
            "text/plain": [
              "<Figure size 576x576 with 2 Axes>"
            ]
          },
          "metadata": {
            "needs_background": "light"
          },
          "output_type": "display_data"
        }
      ],
      "source": [
        "import matplotlib.pyplot as plt\n",
        "acc = history.history['accuracy']\n",
        "val_acc = history.history['val_accuracy']\n",
        "\n",
        "loss = history.history['loss']\n",
        "val_loss = history.history['val_loss']\n",
        "\n",
        "epochs_range = range(epochs)\n",
        "\n",
        "plt.figure(figsize=(8, 8))\n",
        "plt.subplot(1, 2, 1)\n",
        "plt.plot(epochs_range, acc, label='Training Accuracy')\n",
        "plt.plot(epochs_range, val_acc, label='Validation Accuracy')\n",
        "plt.legend(loc='lower right')\n",
        "plt.title('Training and Validation Accuracy')\n",
        "\n",
        "plt.subplot(1, 2, 2)\n",
        "plt.plot(epochs_range, loss, label='Training Loss')\n",
        "plt.plot(epochs_range, val_loss, label='Validation Loss')\n",
        "plt.legend(loc='upper right')\n",
        "plt.title('Training and Validation Loss')\n",
        "plt.show()"
      ]
    },
    {
      "cell_type": "code",
      "execution_count": 59,
      "metadata": {
        "id": "L3n_QbbAcK-K"
      },
      "outputs": [],
      "source": [
        "import os\n",
        "tes = os.listdir('./').sort()"
      ]
    },
    {
      "cell_type": "code",
      "execution_count": 60,
      "metadata": {
        "id": "VOJ6NElHxveQ"
      },
      "outputs": [],
      "source": [
        "tes"
      ]
    },
    {
      "cell_type": "code",
      "execution_count": 61,
      "metadata": {
        "id": "clSGzvCCyDy3"
      },
      "outputs": [],
      "source": [
        "tes"
      ]
    },
    {
      "cell_type": "code",
      "execution_count": 62,
      "metadata": {
        "colab": {
          "base_uri": "https://localhost:8080/",
          "height": 175
        },
        "id": "a1ZGGuWpyE7v",
        "outputId": "2e9be557-28ae-40a0-e141-fc543b4ff2c2"
      },
      "outputs": [
        {
          "ename": "NameError",
          "evalue": "name 'train_data' is not defined",
          "output_type": "error",
          "traceback": [
            "\u001b[1;31m---------------------------------------------------------------------------\u001b[0m",
            "\u001b[1;31mNameError\u001b[0m                                 Traceback (most recent call last)",
            "\u001b[1;32mc:\\Users\\62852\\PRAK MAGANG\\PENGENALAN_WAJAH.ipynb Cell 20\u001b[0m line \u001b[0;36m<cell line: 1>\u001b[1;34m()\u001b[0m\n\u001b[1;32m----> <a href='vscode-notebook-cell:/c%3A/Users/62852/PRAK%20MAGANG/PENGENALAN_WAJAH.ipynb#X24sZmlsZQ%3D%3D?line=0'>1</a>\u001b[0m \u001b[39mtype\u001b[39m(train_data)\n",
            "\u001b[1;31mNameError\u001b[0m: name 'train_data' is not defined"
          ]
        }
      ],
      "source": [
        "type(train_data)"
      ]
    },
    {
      "cell_type": "code",
      "execution_count": null,
      "metadata": {
        "id": "Rnj2nK9T8MUA"
      },
      "outputs": [],
      "source": [
        "len(train_data.file_paths)"
      ]
    },
    {
      "cell_type": "code",
      "execution_count": null,
      "metadata": {
        "id": "WXagxLt782vw"
      },
      "outputs": [],
      "source": []
    }
  ],
  "metadata": {
    "accelerator": "GPU",
    "colab": {
      "gpuType": "T4",
      "provenance": []
    },
    "kernelspec": {
      "display_name": "Python 3 (ipykernel)",
      "language": "python",
      "name": "python3"
    },
    "language_info": {
      "codemirror_mode": {
        "name": "ipython",
        "version": 3
      },
      "file_extension": ".py",
      "mimetype": "text/x-python",
      "name": "python",
      "nbconvert_exporter": "python",
      "pygments_lexer": "ipython3",
      "version": "3.9.13"
    }
  },
  "nbformat": 4,
  "nbformat_minor": 0
}
